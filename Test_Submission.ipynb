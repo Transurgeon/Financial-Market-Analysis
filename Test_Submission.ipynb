{
 "cells": [
  {
   "cell_type": "markdown",
   "id": "cf948779-a1a0-4606-9625-efb83a5ea171",
   "metadata": {},
   "source": [
    "# Here I am aiming to get hands-on experience with a submission\n",
    "\n",
    "## We will definitely be copying a lot and also commenting a lot\n",
    "\n",
    "### I will reference the notebooks used below"
   ]
  }
 ],
 "metadata": {
  "kernelspec": {
   "display_name": "Python 3 (ipykernel)",
   "language": "python",
   "name": "python3"
  },
  "language_info": {
   "codemirror_mode": {
    "name": "ipython",
    "version": 3
   },
   "file_extension": ".py",
   "mimetype": "text/x-python",
   "name": "python",
   "nbconvert_exporter": "python",
   "pygments_lexer": "ipython3",
   "version": "3.9.1"
  }
 },
 "nbformat": 4,
 "nbformat_minor": 5
}
