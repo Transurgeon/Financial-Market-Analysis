{
 "cells": [
  {
   "cell_type": "markdown",
   "id": "cf948779-a1a0-4606-9625-efb83a5ea171",
   "metadata": {},
   "source": [
    "# Here I am aiming to get hands-on experience with a submission\n",
    "\n",
    "## We will definitely be copying a lot and also commenting a lot\n",
    "\n",
    "### I will reference the notebooks used below"
   ]
  },
  {
   "cell_type": "code",
   "execution_count": null,
   "id": "d1dc5dee-94ef-461e-9e98-2559fad5ad1a",
   "metadata": {},
   "outputs": [],
   "source": []
  },
  {
   "cell_type": "code",
   "execution_count": null,
   "id": "196bed31-4c59-4bf4-8e2f-9d89234c9536",
   "metadata": {},
   "outputs": [],
   "source": []
  }
 ],
 "metadata": {
  "kernelspec": {
   "display_name": "Python 3 (ipykernel)",
   "language": "python",
   "name": "python3"
  },
  "language_info": {
   "codemirror_mode": {
    "name": "ipython",
    "version": 3
   },
   "file_extension": ".py",
   "mimetype": "text/x-python",
   "name": "python",
   "nbconvert_exporter": "python",
   "pygments_lexer": "ipython3",
   "version": "3.9.1"
  }
 },
 "nbformat": 4,
 "nbformat_minor": 5
}
