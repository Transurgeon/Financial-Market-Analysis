{
 "cells": [
  {
   "cell_type": "markdown",
   "id": "cf948779-a1a0-4606-9625-efb83a5ea171",
   "metadata": {},
   "source": [
    "# Here I am aiming to get hands-on experience with a submission\n",
    "\n",
    "## We will definitely be copying a lot and also commenting a lot\n",
    "\n",
    "### I will reference the notebooks used below"
   ]
  },
  {
   "cell_type": "code",
   "execution_count": null,
   "id": "62d885bf-863f-40ea-8c00-d3705ec39bdf",
   "metadata": {},
   "outputs": [],
   "source": []
  },
  {
   "cell_type": "code",
   "execution_count": null,
   "id": "e8cd1d96-d9b4-4fa8-af55-9fb76e4e935a",
   "metadata": {},
   "outputs": [],
   "source": []
  }
 ],
 "metadata": {
  "kernelspec": {
   "display_name": "Python 3 (ipykernel)",
   "language": "python",
   "name": "python3"
  },
  "language_info": {
   "codemirror_mode": {
    "name": "ipython",
    "version": 3
   },
   "file_extension": ".py",
   "mimetype": "text/x-python",
   "name": "python",
   "nbconvert_exporter": "python",
   "pygments_lexer": "ipython3",
   "version": "3.9.1"
  }
 },
 "nbformat": 4,
 "nbformat_minor": 5
}
