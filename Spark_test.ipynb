{
 "cells": [
  {
   "cell_type": "code",
   "execution_count": 1,
   "id": "59d3b94a-d5c2-44b3-b10a-9933b6702f1f",
   "metadata": {},
   "outputs": [],
   "source": [
    "import pyspark"
   ]
  },
  {
   "cell_type": "code",
   "execution_count": null,
   "id": "003da800-9a44-4249-a0ca-e22c957043ae",
   "metadata": {},
   "outputs": [],
   "source": [
    "import pandas as pd\n",
    "stock_list = pd.read_csv('data/stock_list.csv')"
   ]
  },
  {
   "cell_type": "code",
   "execution_count": null,
   "id": "82bc5ba1-f590-4983-9099-6caa726ef97e",
   "metadata": {},
   "outputs": [],
   "source": []
  }
 ],
 "metadata": {
  "kernelspec": {
   "display_name": "Python 3 (ipykernel)",
   "language": "python",
   "name": "python3"
  },
  "language_info": {
   "codemirror_mode": {
    "name": "ipython",
    "version": 3
   },
   "file_extension": ".py",
   "mimetype": "text/x-python",
   "name": "python",
   "nbconvert_exporter": "python",
   "pygments_lexer": "ipython3",
   "version": "3.9.1"
  }
 },
 "nbformat": 4,
 "nbformat_minor": 5
}
