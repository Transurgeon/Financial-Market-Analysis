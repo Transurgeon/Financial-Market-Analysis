{
 "cells": [
  {
   "cell_type": "markdown",
   "id": "c4c50fc0-e9fc-47bf-8481-8480df6849b2",
   "metadata": {},
   "source": [
    "\n",
    "# SEC Scraper for a single company\n",
    "\n",
    "### Important resources\n",
    "- SEC Documentation: https://www.sec.gov/os/accessing-edgar-data\n",
    "- Youtube Tutorial: https://www.youtube.com/playlist?list=PLcFcktZ0wnNl5X7Qn1JM4jhrIOBsNj1qa \n"
   ]
  },
  {
   "cell_type": "code",
   "execution_count": 55,
   "id": "57c85587-5423-44dd-ac62-339faf44416f",
   "metadata": {},
   "outputs": [
    {
     "data": {
      "text/plain": [
       "'https://www.sec.gov/Archives/edgar/data/1652044/index.json'"
      ]
     },
     "execution_count": 55,
     "metadata": {},
     "output_type": "execute_result"
    }
   ],
   "source": [
    "# import some libraries\n",
    "import requests\n",
    "from bs4 import BeautifulSoup\n",
    "\n",
    "# base url \n",
    "base_url = r\"https://www.sec.gov/Archives/edgar/data/\"\n",
    "\n",
    "# CIK number for GOOGL\n",
    "cik_num = \"1652044\"\n",
    "\n",
    "# Combining base url and CIK num to create a filing url\n",
    "filing_url = base_url + cik_num + r\"/index.json\"\n",
    "filing_url"
   ]
  },
  {
   "cell_type": "code",
   "execution_count": 59,
   "id": "132af0a8-8b50-4fe1-97bb-a22d4c6c2c72",
   "metadata": {},
   "outputs": [
    {
     "data": {
      "text/plain": [
       "'https://www.sec.gov/Archives/edgar/data/1652044/000120919122045299/index.json'"
      ]
     },
     "execution_count": 59,
     "metadata": {},
     "output_type": "execute_result"
    }
   ],
   "source": [
    "# Declaring user agent header for the content, this header is additional info passed to the request\n",
    "headers = {'user-agent':'William',\n",
    "          'Host':'www.sec.gov'}\n",
    "\n",
    "# Saving the content from a GET request of the filing url\n",
    "content = requests.get(filing_url, headers=headers)\n",
    "\n",
    "# Convert the content to JSON format\n",
    "decode = content.json()\n",
    "\n",
    "# Retrieve specific filing number from the decode dictionary\n",
    "filing_number = decode['directory']['item'][1]['name']\n",
    "\n",
    "number_url = base_url + cik_num + \"/\" + filing_number + r\"/index.json\"\n",
    "number_url"
   ]
  },
  {
   "cell_type": "markdown",
   "id": "de5e4336-aa53-474d-96bf-d36836fa53bf",
   "metadata": {},
   "source": [
    "### Repeat the process\n",
    "\n",
    "We now have constructed the path to a specific filing name. \n",
    "We will need to do another GET request to view the files under that directory"
   ]
  },
  {
   "cell_type": "code",
   "execution_count": 60,
   "id": "6b794047-bb2e-4ea2-b28b-ab53b12e574f",
   "metadata": {},
   "outputs": [
    {
     "name": "stdout",
     "output_type": "stream",
     "text": [
      "{'last-modified': '2022-08-10 18:18:15', 'name': '0001209191-22-045299-index-headers.html', 'type': 'text.gif', 'size': ''}\n",
      "https://www.sec.gov/Archives/edgar/data/1652044/000120919122045299/0001209191-22-045299-index-headers.html\n",
      "{'last-modified': '2022-08-10 18:18:15', 'name': '0001209191-22-045299-index.html', 'type': 'text.gif', 'size': ''}\n",
      "https://www.sec.gov/Archives/edgar/data/1652044/000120919122045299/0001209191-22-045299-index.html\n",
      "{'last-modified': '2022-08-10 18:18:15', 'name': '0001209191-22-045299.txt', 'type': 'text.gif', 'size': ''}\n",
      "https://www.sec.gov/Archives/edgar/data/1652044/000120919122045299/0001209191-22-045299.txt\n",
      "{'last-modified': '2022-08-10 18:18:15', 'name': 'doc4.xml', 'type': 'text.gif', 'size': '8252'}\n",
      "https://www.sec.gov/Archives/edgar/data/1652044/000120919122045299/doc4.xml\n"
     ]
    }
   ],
   "source": [
    "# Saving the content from a GET request of the filing number url\n",
    "content = requests.get(number_url, headers=headers)\n",
    "\n",
    "# Convert the content to JSON format\n",
    "document = content.json()\n",
    "\n",
    "# Retrieve specific filing number from the decode dictionary\n",
    "for doc in document['directory']['item']:\n",
    "    if doc['type'] != 'image2.gif':\n",
    "        print(doc)\n",
    "        doc_name = doc['name']\n",
    "        document_url = base_url + cik_num + \"/\" + filing_number + \"/\" + doc_name\n",
    "        print(document_url)"
   ]
  },
  {
   "cell_type": "code",
   "execution_count": null,
   "id": "e31757ad-96aa-438b-908c-684a01ad3400",
   "metadata": {},
   "outputs": [],
   "source": []
  }
 ],
 "metadata": {
  "kernelspec": {
   "display_name": "Python 3 (ipykernel)",
   "language": "python",
   "name": "python3"
  },
  "language_info": {
   "codemirror_mode": {
    "name": "ipython",
    "version": 3
   },
   "file_extension": ".py",
   "mimetype": "text/x-python",
   "name": "python",
   "nbconvert_exporter": "python",
   "pygments_lexer": "ipython3",
   "version": "3.9.13"
  }
 },
 "nbformat": 4,
 "nbformat_minor": 5
}
