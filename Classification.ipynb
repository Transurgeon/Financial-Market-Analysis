{
 "cells": [
  {
   "cell_type": "markdown",
   "id": "e531c56e-a6ae-4a3d-a52e-d704841e9694",
   "metadata": {},
   "source": [
    "#From Book : Machine Learning in Action by Peter Harrington\n",
    "\n",
    "##Chapter 2 : Classifying with k-Nearest Neighbors"
   ]
  },
  {
   "cell_type": "code",
   "execution_count": null,
   "id": "b693880f-991d-4f17-84fb-67dc3208e275",
   "metadata": {},
   "outputs": [],
   "source": []
  }
 ],
 "metadata": {
  "kernelspec": {
   "display_name": "Python 3 (ipykernel)",
   "language": "python",
   "name": "python3"
  },
  "language_info": {
   "codemirror_mode": {
    "name": "ipython",
    "version": 3
   },
   "file_extension": ".py",
   "mimetype": "text/x-python",
   "name": "python",
   "nbconvert_exporter": "python",
   "pygments_lexer": "ipython3",
   "version": "3.9.1"
  }
 },
 "nbformat": 4,
 "nbformat_minor": 5
}
