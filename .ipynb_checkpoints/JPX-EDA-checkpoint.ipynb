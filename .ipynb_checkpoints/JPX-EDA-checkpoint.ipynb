{
 "cells": [
  {
   "cell_type": "markdown",
   "id": "c40af159-813e-4019-9387-ce40a8863753",
   "metadata": {},
   "source": [
    "#JPX STOCK Prediction Explaratory Data Analysis\n"
   ]
  },
  {
   "cell_type": "markdown",
   "id": "65e70c8f-227b-469b-adae-44c95f7b3de2",
   "metadata": {},
   "source": [
    "How to get setup up and running: \n",
    "1. run 'jupyter-lab' in the command line\n",
    "2. open another shell and cd to working directory\n",
    "3. git status to check if there are pending updates\n",
    "4. git add . (learn to use other 'adds' and 'gitignore')\n",
    "5. git commit -m \"type a message here\"\n",
    "6. git push"
   ]
  },
  {
   "cell_type": "markdown",
   "id": "c8beea05-6a6d-4da3-a099-b42e016573ed",
   "metadata": {},
   "source": [
    "##Importing libraries and packages"
   ]
  },
  {
   "cell_type": "code",
   "execution_count": null,
   "id": "37ee4aa3-be04-49cd-a2bb-a551e07620b5",
   "metadata": {},
   "outputs": [],
   "source": [
    "# Import Dependencies\n",
    "%matplotlib inline\n",
    "\n",
    "# Start Python Imports\n",
    "import math, time, random, datetime\n",
    "\n",
    "# Data Manipulation\n",
    "import numpy as np\n",
    "import pandas as pd\n",
    "\n",
    "# Visualization \n",
    "import matplotlib.pyplot as plt\n",
    "import missingno\n",
    "import seaborn as sns\n",
    "plt.style.use('seaborn-whitegrid')\n",
    "\n",
    "# Preprocessing\n",
    "from sklearn.preprocessing import OneHotEncoder, LabelEncoder, label_binarize\n",
    "\n",
    "# Machine learning\n",
    "import catboost\n",
    "from sklearn.model_selection import train_test_split\n",
    "from sklearn import model_selection, tree, preprocessing, metrics, linear_model\n",
    "from sklearn.svm import LinearSVC\n",
    "from sklearn.ensemble import GradientBoostingClassifier\n",
    "from sklearn.neighbors import KNeighborsClassifier\n",
    "from sklearn.naive_bayes import GaussianNB\n",
    "from sklearn.linear_model import LinearRegression, LogisticRegression, SGDClassifier\n",
    "from sklearn.tree import DecisionTreeClassifier\n",
    "from catboost import CatBoostClassifier, Pool, cv\n",
    "\n",
    "# Let's be rebels and ignore warnings for now\n",
    "import warnings\n",
    "warnings.filterwarnings('ignore')"
   ]
  },
  {
   "cell_type": "markdown",
   "id": "22130736-8117-4f40-a4fe-4798d218b8e6",
   "metadata": {},
   "source": [
    "##Loading the data\n",
    "\n",
    "The data for this competition is too big to be updated on Github.\n",
    "We will store the data in a separate directory in the parent folder \n",
    "\n",
    "I ended up copying the information into this folder then using .gitignore to avoid publishing data into github"
   ]
  },
  {
   "cell_type": "code",
   "execution_count": null,
   "id": "9605281a-337a-4ba9-89e7-e5e9b0281cb6",
   "metadata": {},
   "outputs": [],
   "source": [
    "#Import train & test data & more\n",
    "stock_list = pd.read_csv('data/stock_list.csv')\n",
    "df_financials = pd.read_csv('data/train_files/financials.csv')\n",
    "df_options = pd.read_csv('data/train_files/options.csv')\n",
    "df_secondary_stock_prices = pd.read_csv('data/train_files/secondary_stock_prices.csv')\n",
    "df_stock_prices = pd.read_csv('data/train_files/stock_prices.csv')\n",
    "df_trades = pd.read_csv('data/train_files/trades.csv')"
   ]
  },
  {
   "cell_type": "markdown",
   "id": "91b59313-b077-4e07-93a6-7d7ec8c28197",
   "metadata": {},
   "source": [
    "##Adding head and missing table values for the stock_list"
   ]
  },
  {
   "cell_type": "code",
   "execution_count": null,
   "id": "df32dc65-8de3-4152-9367-8147b5b6171c",
   "metadata": {},
   "outputs": [],
   "source": [
    "stock_list.head(5)"
   ]
  },
  {
   "cell_type": "markdown",
   "id": "51996587-752c-44f7-ba5a-3a1247be5433",
   "metadata": {},
   "source": [
    "##Outputting head(15) of the training data -- \n",
    "Still in phase of understanding what everything means"
   ]
  },
  {
   "cell_type": "code",
   "execution_count": null,
   "id": "98a0946f-6f14-4fe6-bc06-7f9c35d12898",
   "metadata": {},
   "outputs": [],
   "source": [
    "# Plot graphic of missing values\n",
    "missingno.matrix(stock_list, figsize = (40,10))"
   ]
  },
  {
   "cell_type": "code",
   "execution_count": null,
   "id": "eb0e1e8f-abe0-419d-a3ba-086aaff9edc4",
   "metadata": {},
   "outputs": [],
   "source": [
    "# Another way of checking how many missing values are in a dataset\n",
    "stock_list.isnull().sum()"
   ]
  },
  {
   "cell_type": "code",
   "execution_count": null,
   "id": "6b96185d-d09b-4584-8512-4d3e0ce3b877",
   "metadata": {},
   "outputs": [],
   "source": [
    "#df_stock_prices.head(5)\n",
    "df_stock_prices.describe()"
   ]
  },
  {
   "cell_type": "code",
   "execution_count": null,
   "id": "a2867060-7327-44ff-ab60-453ffb7ce8b8",
   "metadata": {},
   "outputs": [],
   "source": [
    "# Plot graphic of missing values\n",
    "missingno.matrix(df_stock_prices, figsize = (40,10))"
   ]
  },
  {
   "cell_type": "code",
   "execution_count": null,
   "id": "16efc9bd-58a8-4bbb-af7e-34cbc2ce5a51",
   "metadata": {},
   "outputs": [],
   "source": [
    "# Another way of checking how many missing values are in a dataset\n",
    "df_stock_prices.isnull().sum()"
   ]
  },
  {
   "cell_type": "markdown",
   "id": "b93cd4d1-bde3-44a4-b8aa-e354ade306b6",
   "metadata": {},
   "source": [
    "##Notice\n",
    "There are a lot of missing values in the ExpectedDividend column, therefore we cannot make an accurate judgment with it as a variable during training\n",
    "##To-do\n",
    "Figure out why there are 7608 stocks without OPEN/HIGH/LOW columns (assuming they are common)\n",
    "Write a program that groups these stocks together and try to find a pattern"
   ]
  },
  {
   "cell_type": "code",
   "execution_count": null,
   "id": "e6e16bb7-2785-406c-aced-b2992ed2f9de",
   "metadata": {},
   "outputs": [],
   "source": [
    "df_trades.head(5)"
   ]
  },
  {
   "cell_type": "code",
   "execution_count": null,
   "id": "c4969733-f59e-4576-8406-f4893db8e517",
   "metadata": {},
   "outputs": [],
   "source": [
    "df_secondary_stock_prices.head(5)"
   ]
  },
  {
   "cell_type": "code",
   "execution_count": null,
   "id": "02c8ea34-4e95-4f2b-868f-26efb191f699",
   "metadata": {},
   "outputs": [],
   "source": [
    "df_options.head(5)"
   ]
  },
  {
   "cell_type": "markdown",
   "id": "e209f11c-ebcd-4b7d-816b-fbb14f5c148e",
   "metadata": {},
   "source": [
    "##Understanding the data\n",
    "Read from the data_specification sub-folder. Trying to summarize the definition of each specific column for understanding and future reference\n",
    "\n",
    "###Options specifications\n",
    "What is night session? \n",
    "https://www.jpx.co.jp/english/derivatives/rules/trading-hours/index.html\n",
    "\n",
    "The Japanese market operates a night session for different options/futures to allow trade between overseas market (US, Europe) \n",
    "\n",
    "Whole & Day & Night / Low & High & Close & Open - all floats\n",
    "\n",
    "###Stock_List specifications\n"
   ]
  },
  {
   "cell_type": "markdown",
   "id": "35ce88e8-7020-4cba-b9d6-9968e53e41c2",
   "metadata": {},
   "source": [
    "##Understanding the scoring system\n",
    "\n",
    "The first 200 stocks and the last 200 out of a list of 2000 will be bought and shorted, respectively.\n",
    "\n",
    "The sum of the first 200 stocks will be saved into a variable called S_{up}. The ranking of the stock will determine its linear weight which goes from 2-to-1.\n",
    "This means that the first stock has a weight of 2 and the 200th a weight of 1. This allows competitors with the highest return on stock that were ranked high to get a greater S_{up} value.\n",
    "\n",
    "The same process is done for the last 200 stocks (shorted) and stored into a variable called S_{down}.\n",
    "The final score of the competitors is then simply S_{up}-S{down}."
   ]
  },
  {
   "cell_type": "markdown",
   "id": "237e99c1-29f3-4969-ae90-1683859330af",
   "metadata": {},
   "source": [
    "Practicing outputs for data. "
   ]
  },
  {
   "cell_type": "code",
   "execution_count": null,
   "id": "b9e31090-bda5-4978-ac0b-d64944fe1182",
   "metadata": {},
   "outputs": [],
   "source": [
    "code = 1333\n",
    "price_data = df_stock_prices[df_stock_prices[\"SecuritiesCode\"] == code]\n",
    "print(price_data.count())\n",
    "\n",
    "fig, ax = plt.subplots(figsize=(30, 15))\n",
    "\n",
    "ax.plot(price_data['Date'],price_data[\"Open\"], label=f\"Open\")\n",
    "ax.plot(price_data['Date'],price_data[\"High\"], label=f\"High\")\n",
    "ax.plot(price_data['Date'],price_data[\"Low\"], label=f\"Low\")\n",
    "ax.plot(price_data['Date'],price_data[\"Close\"], label=f\"Close\")\n",
    "plt.xticks([0, 200, 400, 600, 800, 1000, 1200])\n",
    "ax.set_ylabel(\"stock_price (yen)\")\n",
    "ax.set_xlabel(\"datetime (YYYY-MM-DD)\")\n",
    "ax.grid(True)\n",
    "ax.legend()\n"
   ]
  },
  {
   "cell_type": "code",
   "execution_count": null,
   "id": "577fd7b3-c488-40e3-86ab-50a227b16595",
   "metadata": {},
   "outputs": [],
   "source": []
  }
 ],
 "metadata": {
  "kernelspec": {
   "display_name": "Python 3 (ipykernel)",
   "language": "python",
   "name": "python3"
  },
  "language_info": {
   "codemirror_mode": {
    "name": "ipython",
    "version": 3
   },
   "file_extension": ".py",
   "mimetype": "text/x-python",
   "name": "python",
   "nbconvert_exporter": "python",
   "pygments_lexer": "ipython3",
   "version": "3.9.1"
  }
 },
 "nbformat": 4,
 "nbformat_minor": 5
}
