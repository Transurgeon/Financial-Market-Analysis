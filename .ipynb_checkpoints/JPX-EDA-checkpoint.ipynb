{
 "cells": [
  {
   "cell_type": "markdown",
   "id": "c40af159-813e-4019-9387-ce40a8863753",
   "metadata": {},
   "source": [
    "#JPX STOCK Prediction Explaratory Data Analysis\n"
   ]
  },
  {
   "cell_type": "markdown",
   "id": "65e70c8f-227b-469b-adae-44c95f7b3de2",
   "metadata": {},
   "source": [
    "How to get setup up and running: \n",
    "1. run 'jupyter-lab' in the command line\n",
    "2. open another shell and cd to working directory\n",
    "3. git status to check if there are pending updates\n",
    "4. git add . (learn to use other 'adds' and 'gitignore')\n",
    "5. git commit -m \"type a message here\"\n",
    "6. git push"
   ]
  },
  {
   "cell_type": "markdown",
   "id": "c8beea05-6a6d-4da3-a099-b42e016573ed",
   "metadata": {},
   "source": [
    "##Importing libraries and packages"
   ]
  },
  {
   "cell_type": "code",
   "execution_count": 4,
   "id": "37ee4aa3-be04-49cd-a2bb-a551e07620b5",
   "metadata": {},
   "outputs": [],
   "source": [
    "# Import Dependencies\n",
    "%matplotlib inline\n",
    "\n",
    "# Start Python Imports\n",
    "import math, time, random, datetime\n",
    "\n",
    "# Data Manipulation\n",
    "import numpy as np\n",
    "import pandas as pd\n",
    "\n",
    "# Visualization \n",
    "import matplotlib.pyplot as plt\n",
    "import missingno\n",
    "import seaborn as sns\n",
    "plt.style.use('seaborn-whitegrid')\n",
    "\n",
    "# Preprocessing\n",
    "from sklearn.preprocessing import OneHotEncoder, LabelEncoder, label_binarize\n",
    "\n",
    "# Machine learning\n",
    "import catboost\n",
    "from sklearn.model_selection import train_test_split\n",
    "from sklearn import model_selection, tree, preprocessing, metrics, linear_model\n",
    "from sklearn.svm import LinearSVC\n",
    "from sklearn.ensemble import GradientBoostingClassifier\n",
    "from sklearn.neighbors import KNeighborsClassifier\n",
    "from sklearn.naive_bayes import GaussianNB\n",
    "from sklearn.linear_model import LinearRegression, LogisticRegression, SGDClassifier\n",
    "from sklearn.tree import DecisionTreeClassifier\n",
    "from catboost import CatBoostClassifier, Pool, cv\n",
    "\n",
    "# Let's be rebels and ignore warnings for now\n",
    "import warnings\n",
    "warnings.filterwarnings('ignore')"
   ]
  },
  {
   "cell_type": "markdown",
   "id": "22130736-8117-4f40-a4fe-4798d218b8e6",
   "metadata": {},
   "source": [
    "##Loading the data\n",
    "\n",
    "The data for this competition is too big to be updated on Github.\n",
    "We will store the data in a separate directory in the parent folder "
   ]
  },
  {
   "cell_type": "code",
   "execution_count": 10,
   "id": "9605281a-337a-4ba9-89e7-e5e9b0281cb6",
   "metadata": {},
   "outputs": [
    {
     "ename": "SyntaxError",
     "evalue": "invalid syntax (457724825.py, line 2)",
     "output_type": "error",
     "traceback": [
      "\u001b[1;36m  Input \u001b[1;32mIn [10]\u001b[1;36m\u001b[0m\n\u001b[1;33m    financials = pd.read_csv(Documents/Kaggle Datasets/data/train_files/financials.csv);\u001b[0m\n\u001b[1;37m                                              ^\u001b[0m\n\u001b[1;31mSyntaxError\u001b[0m\u001b[1;31m:\u001b[0m invalid syntax\n"
     ]
    }
   ],
   "source": [
    "#Import train & test data & more\n",
    "financials = pd.read_csv(Documents/Kaggle_Datasets/data/train_files/financials.csv);\n"
   ]
  },
  {
   "cell_type": "code",
   "execution_count": 9,
   "id": "6b96185d-d09b-4584-8512-4d3e0ce3b877",
   "metadata": {},
   "outputs": [
    {
     "ename": "NameError",
     "evalue": "name 'financials' is not defined",
     "output_type": "error",
     "traceback": [
      "\u001b[1;31m---------------------------------------------------------------------------\u001b[0m",
      "\u001b[1;31mNameError\u001b[0m                                 Traceback (most recent call last)",
      "Input \u001b[1;32mIn [9]\u001b[0m, in \u001b[0;36m<cell line: 1>\u001b[1;34m()\u001b[0m\n\u001b[1;32m----> 1\u001b[0m \u001b[43mfinancials\u001b[49m\u001b[38;5;241m.\u001b[39mhead()\n",
      "\u001b[1;31mNameError\u001b[0m: name 'financials' is not defined"
     ]
    }
   ],
   "source": [
    "financials.head();"
   ]
  },
  {
   "cell_type": "code",
   "execution_count": null,
   "id": "b76b0d0c-012b-485d-99ae-eac6f7dc67e8",
   "metadata": {},
   "outputs": [],
   "source": []
  }
 ],
 "metadata": {
  "kernelspec": {
   "display_name": "Python 3 (ipykernel)",
   "language": "python",
   "name": "python3"
  },
  "language_info": {
   "codemirror_mode": {
    "name": "ipython",
    "version": 3
   },
   "file_extension": ".py",
   "mimetype": "text/x-python",
   "name": "python",
   "nbconvert_exporter": "python",
   "pygments_lexer": "ipython3",
   "version": "3.9.1"
  }
 },
 "nbformat": 4,
 "nbformat_minor": 5
}
