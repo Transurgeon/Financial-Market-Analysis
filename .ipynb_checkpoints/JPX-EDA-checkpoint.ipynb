{
 "cells": [
  {
   "cell_type": "markdown",
   "id": "c40af159-813e-4019-9387-ce40a8863753",
   "metadata": {},
   "source": [
    "#JPX STOCK Prediction Explaratory Data Analysis\n"
   ]
  },
  {
   "cell_type": "markdown",
   "id": "65e70c8f-227b-469b-adae-44c95f7b3de2",
   "metadata": {},
   "source": [
    "How to get setup up and running: \n",
    "1. run 'jupyter-lab' in the command line\n",
    "2. open another shell and cd to working directory\n",
    "3. git status to check if there are pending updates\n",
    "4. git add . (learn to use other 'adds' and 'gitignore')\n",
    "5. git commit -m \"type a message here\"\n",
    "6. git push"
   ]
  },
  {
   "cell_type": "markdown",
   "id": "c8beea05-6a6d-4da3-a099-b42e016573ed",
   "metadata": {},
   "source": [
    "Importing libraries and packages"
   ]
  },
  {
   "cell_type": "code",
   "execution_count": null,
   "id": "37ee4aa3-be04-49cd-a2bb-a551e07620b5",
   "metadata": {},
   "outputs": [],
   "source": [
    "# Import Dependencies\n",
    "%matplotlib inline\n",
    "\n",
    "# Start Python Imports\n",
    "import math, time, random, datetime\n",
    "\n",
    "# Data Manipulation\n",
    "import numpy as np\n",
    "import pandas as pd\n",
    "\n",
    "# Visualization \n",
    "import matplotlib.pyplot as plt\n",
    "import missingno\n",
    "import seaborn as sns\n",
    "plt.style.use('seaborn-whitegrid')\n",
    "\n",
    "# Preprocessing\n",
    "from sklearn.preprocessing import OneHotEncoder, LabelEncoder, label_binarize\n",
    "\n",
    "# Machine learning\n",
    "import catboost\n",
    "from sklearn.model_selection import train_test_split\n",
    "from sklearn import model_selection, tree, preprocessing, metrics, linear_model\n",
    "from sklearn.svm import LinearSVC\n",
    "from sklearn.ensemble import GradientBoostingClassifier\n",
    "from sklearn.neighbors import KNeighborsClassifier\n",
    "from sklearn.naive_bayes import GaussianNB\n",
    "from sklearn.linear_model import LinearRegression, LogisticRegression, SGDClassifier\n",
    "from sklearn.tree import DecisionTreeClassifier\n",
    "from catboost import CatBoostClassifier, Pool, cv\n",
    "\n",
    "# Let's be rebels and ignore warnings for now\n",
    "import warnings\n",
    "warnings.filterwarnings('ignore')"
   ]
  },
  {
   "cell_type": "code",
   "execution_count": null,
   "id": "f3a62e73-cce2-427c-b4b4-af6b0eeca2cf",
   "metadata": {},
   "outputs": [],
   "source": []
  }
 ],
 "metadata": {
  "kernelspec": {
   "display_name": "Python 3 (ipykernel)",
   "language": "python",
   "name": "python3"
  },
  "language_info": {
   "codemirror_mode": {
    "name": "ipython",
    "version": 3
   },
   "file_extension": ".py",
   "mimetype": "text/x-python",
   "name": "python",
   "nbconvert_exporter": "python",
   "pygments_lexer": "ipython3",
   "version": "3.9.1"
  }
 },
 "nbformat": 4,
 "nbformat_minor": 5
}
