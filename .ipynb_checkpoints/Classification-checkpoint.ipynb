{
 "cells": [
  {
   "cell_type": "markdown",
   "id": "e531c56e-a6ae-4a3d-a52e-d704841e9694",
   "metadata": {},
   "source": [
    "#Understanding Sharpe Ratio \n",
    "\n",
    "##And other Important Things For the Competition\n"
   ]
  },
  {
   "cell_type": "code",
   "execution_count": null,
   "id": "c9b0d37e-7393-46d4-90c2-abf750ebd103",
   "metadata": {},
   "outputs": [],
   "source": []
  }
 ],
 "metadata": {
  "kernelspec": {
   "display_name": "Python 3 (ipykernel)",
   "language": "python",
   "name": "python3"
  },
  "language_info": {
   "codemirror_mode": {
    "name": "ipython",
    "version": 3
   },
   "file_extension": ".py",
   "mimetype": "text/x-python",
   "name": "python",
   "nbconvert_exporter": "python",
   "pygments_lexer": "ipython3",
   "version": "3.9.1"
  }
 },
 "nbformat": 4,
 "nbformat_minor": 5
}
