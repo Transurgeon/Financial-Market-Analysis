{
 "cells": [
  {
   "cell_type": "code",
   "execution_count": 19,
   "id": "59d3b94a-d5c2-44b3-b10a-9933b6702f1f",
   "metadata": {},
   "outputs": [],
   "source": [
    "import pyspark"
   ]
  },
  {
   "cell_type": "code",
   "execution_count": 23,
   "id": "003da800-9a44-4249-a0ca-e22c957043ae",
   "metadata": {},
   "outputs": [],
   "source": [
    "import pandas as pd\n",
    "stock_list = pd.read_csv('data/stock_list.csv')"
   ]
  },
  {
   "cell_type": "code",
   "execution_count": null,
   "id": "82bc5ba1-f590-4983-9099-6caa726ef97e",
   "metadata": {},
   "outputs": [],
   "source": []
  },
  {
   "cell_type": "code",
   "execution_count": null,
   "id": "193e6d97-6d25-453b-840e-70a2296ea7fe",
   "metadata": {},
   "outputs": [],
   "source": []
  },
  {
   "cell_type": "code",
   "execution_count": null,
   "id": "684d960f-7534-46f7-bee2-34a94a04a7e6",
   "metadata": {},
   "outputs": [],
   "source": []
  },
  {
   "cell_type": "code",
   "execution_count": null,
   "id": "912e17a0-68a9-4135-b9f7-30434a9ca542",
   "metadata": {},
   "outputs": [],
   "source": []
  }
 ],
 "metadata": {
  "kernelspec": {
   "display_name": "Python 3 (ipykernel)",
   "language": "python",
   "name": "python3"
  },
  "language_info": {
   "codemirror_mode": {
    "name": "ipython",
    "version": 3
   },
   "file_extension": ".py",
   "mimetype": "text/x-python",
   "name": "python",
   "nbconvert_exporter": "python",
   "pygments_lexer": "ipython3",
   "version": "3.9.1"
  }
 },
 "nbformat": 4,
 "nbformat_minor": 5
}
